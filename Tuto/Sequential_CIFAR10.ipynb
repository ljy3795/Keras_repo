{
 "cells": [
  {
   "cell_type": "code",
   "execution_count": 1,
   "metadata": {
    "ExecuteTime": {
     "end_time": "2018-05-18T02:12:49.672910Z",
     "start_time": "2018-05-18T02:12:49.667179Z"
    },
    "collapsed": true
   },
   "outputs": [],
   "source": [
    "import keras\n",
    "from keras.models import Sequential\n",
    "from keras.layers import Dense, Flatten, Dropout, Activation\n",
    "from keras.layers import Conv2D, MaxPooling2D\n",
    "\n",
    "from keras.datasets import cifar10\n",
    "from keras.preprocessing.image import ImageDataGenerator"
   ]
  },
  {
   "cell_type": "code",
   "execution_count": 2,
   "metadata": {
    "ExecuteTime": {
     "end_time": "2018-05-18T02:13:23.317113Z",
     "start_time": "2018-05-18T02:13:23.313422Z"
    },
    "collapsed": true
   },
   "outputs": [],
   "source": [
    "batch_size = 32\n",
    "num_classes = 10\n",
    "epochs = 20\n",
    "num_predictions = 20"
   ]
  },
  {
   "cell_type": "code",
   "execution_count": 3,
   "metadata": {
    "ExecuteTime": {
     "end_time": "2018-05-18T02:14:57.528112Z",
     "start_time": "2018-05-18T02:13:52.536483Z"
    }
   },
   "outputs": [
    {
     "name": "stdout",
     "output_type": "stream",
     "text": [
      "Downloading data from https://www.cs.toronto.edu/~kriz/cifar-10-python.tar.gz\n",
      "170500096/170498071 [==============================] - 59s 0us/step\n"
     ]
    }
   ],
   "source": [
    "(x_train, y_train), (x_test, y_test) = cifar10.load_data()"
   ]
  },
  {
   "cell_type": "code",
   "execution_count": 4,
   "metadata": {
    "ExecuteTime": {
     "end_time": "2018-05-18T02:14:57.535157Z",
     "start_time": "2018-05-18T02:14:57.530013Z"
    }
   },
   "outputs": [
    {
     "name": "stdout",
     "output_type": "stream",
     "text": [
      "(50000, 32, 32, 3)\n",
      "(10000, 32, 32, 3)\n",
      "(50000, 1)\n",
      "(10000, 1)\n"
     ]
    }
   ],
   "source": [
    "print(x_train.shape)\n",
    "print(x_test.shape)\n",
    "print(y_train.shape)\n",
    "print(y_test.shape)"
   ]
  },
  {
   "cell_type": "code",
   "execution_count": 6,
   "metadata": {
    "ExecuteTime": {
     "end_time": "2018-05-18T02:16:11.936112Z",
     "start_time": "2018-05-18T02:16:11.778285Z"
    }
   },
   "outputs": [
    {
     "name": "stdout",
     "output_type": "stream",
     "text": [
      "[6]\n"
     ]
    },
    {
     "data": {
      "image/png": "[encoded data removed]",
      "text/plain": [
       "<matplotlib.figure.Figure at 0x12e544940>"
      ]
     },
     "metadata": {},
     "output_type": "display_data"
    }
   ],
   "source": [
    "print(y_train[0])\n",
    "from matplotlib import pyplot as plt\n",
    "plt.imshow(x_train[0])\n",
    "plt.show()"
   ]
  },
  {
   "cell_type": "code",
   "execution_count": 31,
   "metadata": {
    "ExecuteTime": {
     "end_time": "2018-05-18T02:26:20.989517Z",
     "start_time": "2018-05-18T02:26:20.395463Z"
    },
    "collapsed": true
   },
   "outputs": [],
   "source": [
    "x_train = x_train.astype('float32')\n",
    "x_test = x_test.astype('float32')\n",
    "\n",
    "x_train /= 255\n",
    "x_test /= 255"
   ]
  },
  {
   "cell_type": "code",
   "execution_count": 8,
   "metadata": {
    "ExecuteTime": {
     "end_time": "2018-05-18T02:16:48.638495Z",
     "start_time": "2018-05-18T02:16:48.633777Z"
    },
    "collapsed": true
   },
   "outputs": [],
   "source": [
    "y_train = keras.utils.to_categorical(y_train, num_classes)\n",
    "y_test = keras.utils.to_categorical(y_test, num_classes)"
   ]
  },
  {
   "cell_type": "code",
   "execution_count": 13,
   "metadata": {
    "ExecuteTime": {
     "end_time": "2018-05-18T02:21:46.495587Z",
     "start_time": "2018-05-18T02:21:46.262507Z"
    },
    "collapsed": true
   },
   "outputs": [],
   "source": [
    "# model build\n",
    "model = Sequential()\n",
    "\n",
    "model.add(Conv2D(32, (3,3),\n",
    "                padding = 'same',\n",
    "                activation = 'relu',\n",
    "                input_shape=x_train.shape[1:]))\n",
    "model.add(Conv2D(32, (3,3), activation='relu'))\n",
    "model.add(MaxPooling2D(pool_size=(2,2)))\n",
    "model.add(Dropout(0.25))\n",
    "\n",
    "model.add(Conv2D(64, (3,3), padding='same', activation='relu'))\n",
    "model.add(Conv2D(64, (3,3), activation='relu'))\n",
    "model.add(MaxPooling2D(pool_size=(2,2)))\n",
    "model.add(Dropout(0.25))\n",
    "\n",
    "model.add(Flatten())\n",
    "model.add(Dense(512, activation='relu'))\n",
    "model.add(Dropout(0.5))\n",
    "model.add(Dense(num_classes, activation='softmax'))"
   ]
  },
  {
   "cell_type": "code",
   "execution_count": 33,
   "metadata": {
    "ExecuteTime": {
     "end_time": "2018-05-18T02:28:23.023674Z",
     "start_time": "2018-05-18T02:28:22.925315Z"
    }
   },
   "outputs": [
    {
     "data": {
      "image/svg+xml": [
       "<svg height=\"921pt\" viewBox=\"0.00 0.00 219.61 921.00\" width=\"220pt\" xmlns=\"http://www.w3.org/2000/svg\" xmlns:xlink=\"http://www.w3.org/1999/xlink\">\n",
       "<g class=\"graph\" id=\"graph0\" transform=\"scale(1 1) rotate(0) translate(4 917)\">\n",
       "<title>G</title>\n",
       "<polygon fill=\"#ffffff\" points=\"-4,4 -4,-917 215.6104,-917 215.6104,4 -4,4\" stroke=\"transparent\"/>\n",
       "<!-- 4426683168 -->\n",
       "<g class=\"node\" id=\"node1\">\n",
       "<title>4426683168</title>\n",
       "<polygon fill=\"none\" points=\"17.5171,-876.5 17.5171,-912.5 194.0933,-912.5 194.0933,-876.5 17.5171,-876.5\" stroke=\"#000000\"/>\n",
       "<text fill=\"#000000\" font-family=\"Times,serif\" font-size=\"14.00\" text-anchor=\"middle\" x=\"105.8052\" y=\"-890.3\">conv2d_1_input: InputLayer</text>\n",
       "</g>\n",
       "<!-- 4800145784 -->\n",
       "<g class=\"node\" id=\"node2\">\n",
       "<title>4800145784</title>\n",
       "<polygon fill=\"none\" points=\"42.7793,-803.5 42.7793,-839.5 168.8311,-839.5 168.8311,-803.5 42.7793,-803.5\" stroke=\"#000000\"/>\n",
       "<text fill=\"#000000\" font-family=\"Times,serif\" font-size=\"14.00\" text-anchor=\"middle\" x=\"105.8052\" y=\"-817.3\">conv2d_1: Conv2D</text>\n",
       "</g>\n",
       "<!-- 4426683168&#45;&gt;4800145784 -->\n",
       "<g class=\"edge\" id=\"edge1\">\n",
       "<title>4426683168-&gt;4800145784</title>\n",
       "<path d=\"M105.8052,-876.4551C105.8052,-868.3828 105.8052,-858.6764 105.8052,-849.6817\" fill=\"none\" stroke=\"#000000\"/>\n",
       "<polygon fill=\"#000000\" points=\"109.3053,-849.5903 105.8052,-839.5904 102.3053,-849.5904 109.3053,-849.5903\" stroke=\"#000000\"/>\n",
       "</g>\n",
       "<!-- 4800002928 -->\n",
       "<g class=\"node\" id=\"node3\">\n",
       "<title>4800002928</title>\n",
       "<polygon fill=\"none\" points=\"42.7793,-730.5 42.7793,-766.5 168.8311,-766.5 168.8311,-730.5 42.7793,-730.5\" stroke=\"#000000\"/>\n",
       "<text fill=\"#000000\" font-family=\"Times,serif\" font-size=\"14.00\" text-anchor=\"middle\" x=\"105.8052\" y=\"-744.3\">conv2d_2: Conv2D</text>\n",
       "</g>\n",
       "<!-- 4800145784&#45;&gt;4800002928 -->\n",
       "<g class=\"edge\" id=\"edge2\">\n",
       "<title>4800145784-&gt;4800002928</title>\n",
       "<path d=\"M105.8052,-803.4551C105.8052,-795.3828 105.8052,-785.6764 105.8052,-776.6817\" fill=\"none\" stroke=\"#000000\"/>\n",
       "<polygon fill=\"#000000\" points=\"109.3053,-776.5903 105.8052,-766.5904 102.3053,-776.5904 109.3053,-776.5903\" stroke=\"#000000\"/>\n",
       "</g>\n",
       "<!-- 5072980680 -->\n",
       "<g class=\"node\" id=\"node4\">\n",
       "<title>5072980680</title>\n",
       "<polygon fill=\"none\" points=\"0,-657.5 0,-693.5 211.6104,-693.5 211.6104,-657.5 0,-657.5\" stroke=\"#000000\"/>\n",
       "<text fill=\"#000000\" font-family=\"Times,serif\" font-size=\"14.00\" text-anchor=\"middle\" x=\"105.8052\" y=\"-671.3\">max_pooling2d_1: MaxPooling2D</text>\n",
       "</g>\n",
       "<!-- 4800002928&#45;&gt;5072980680 -->\n",
       "<g class=\"edge\" id=\"edge3\">\n",
       "<title>4800002928-&gt;5072980680</title>\n",
       "<path d=\"M105.8052,-730.4551C105.8052,-722.3828 105.8052,-712.6764 105.8052,-703.6817\" fill=\"none\" stroke=\"#000000\"/>\n",
       "<polygon fill=\"#000000\" points=\"109.3053,-703.5903 105.8052,-693.5904 102.3053,-703.5904 109.3053,-703.5903\" stroke=\"#000000\"/>\n",
       "</g>\n",
       "<!-- 5072978496 -->\n",
       "<g class=\"node\" id=\"node5\">\n",
       "<title>5072978496</title>\n",
       "<polygon fill=\"none\" points=\"42.0034,-584.5 42.0034,-620.5 169.6069,-620.5 169.6069,-584.5 42.0034,-584.5\" stroke=\"#000000\"/>\n",
       "<text fill=\"#000000\" font-family=\"Times,serif\" font-size=\"14.00\" text-anchor=\"middle\" x=\"105.8052\" y=\"-598.3\">dropout_1: Dropout</text>\n",
       "</g>\n",
       "<!-- 5072980680&#45;&gt;5072978496 -->\n",
       "<g class=\"edge\" id=\"edge4\">\n",
       "<title>5072980680-&gt;5072978496</title>\n",
       "<path d=\"M105.8052,-657.4551C105.8052,-649.3828 105.8052,-639.6764 105.8052,-630.6817\" fill=\"none\" stroke=\"#000000\"/>\n",
       "<polygon fill=\"#000000\" points=\"109.3053,-630.5903 105.8052,-620.5904 102.3053,-630.5904 109.3053,-630.5903\" stroke=\"#000000\"/>\n",
       "</g>\n",
       "<!-- 5072558568 -->\n",
       "<g class=\"node\" id=\"node6\">\n",
       "<title>5072558568</title>\n",
       "<polygon fill=\"none\" points=\"42.7793,-511.5 42.7793,-547.5 168.8311,-547.5 168.8311,-511.5 42.7793,-511.5\" stroke=\"#000000\"/>\n",
       "<text fill=\"#000000\" font-family=\"Times,serif\" font-size=\"14.00\" text-anchor=\"middle\" x=\"105.8052\" y=\"-525.3\">conv2d_3: Conv2D</text>\n",
       "</g>\n",
       "<!-- 5072978496&#45;&gt;5072558568 -->\n",
       "<g class=\"edge\" id=\"edge5\">\n",
       "<title>5072978496-&gt;5072558568</title>\n",
       "<path d=\"M105.8052,-584.4551C105.8052,-576.3828 105.8052,-566.6764 105.8052,-557.6817\" fill=\"none\" stroke=\"#000000\"/>\n",
       "<polygon fill=\"#000000\" points=\"109.3053,-557.5903 105.8052,-547.5904 102.3053,-557.5904 109.3053,-557.5903\" stroke=\"#000000\"/>\n",
       "</g>\n",
       "<!-- 5072647896 -->\n",
       "<g class=\"node\" id=\"node7\">\n",
       "<title>5072647896</title>\n",
       "<polygon fill=\"none\" points=\"42.7793,-438.5 42.7793,-474.5 168.8311,-474.5 168.8311,-438.5 42.7793,-438.5\" stroke=\"#000000\"/>\n",
       "<text fill=\"#000000\" font-family=\"Times,serif\" font-size=\"14.00\" text-anchor=\"middle\" x=\"105.8052\" y=\"-452.3\">conv2d_4: Conv2D</text>\n",
       "</g>\n",
       "<!-- 5072558568&#45;&gt;5072647896 -->\n",
       "<g class=\"edge\" id=\"edge6\">\n",
       "<title>5072558568-&gt;5072647896</title>\n",
       "<path d=\"M105.8052,-511.4551C105.8052,-503.3828 105.8052,-493.6764 105.8052,-484.6817\" fill=\"none\" stroke=\"#000000\"/>\n",
       "<polygon fill=\"#000000\" points=\"109.3053,-484.5903 105.8052,-474.5904 102.3053,-484.5904 109.3053,-484.5903\" stroke=\"#000000\"/>\n",
       "</g>\n",
       "<!-- 5072604688 -->\n",
       "<g class=\"node\" id=\"node8\">\n",
       "<title>5072604688</title>\n",
       "<polygon fill=\"none\" points=\"0,-365.5 0,-401.5 211.6104,-401.5 211.6104,-365.5 0,-365.5\" stroke=\"#000000\"/>\n",
       "<text fill=\"#000000\" font-family=\"Times,serif\" font-size=\"14.00\" text-anchor=\"middle\" x=\"105.8052\" y=\"-379.3\">max_pooling2d_2: MaxPooling2D</text>\n",
       "</g>\n",
       "<!-- 5072647896&#45;&gt;5072604688 -->\n",
       "<g class=\"edge\" id=\"edge7\">\n",
       "<title>5072647896-&gt;5072604688</title>\n",
       "<path d=\"M105.8052,-438.4551C105.8052,-430.3828 105.8052,-420.6764 105.8052,-411.6817\" fill=\"none\" stroke=\"#000000\"/>\n",
       "<polygon fill=\"#000000\" points=\"109.3053,-411.5903 105.8052,-401.5904 102.3053,-411.5904 109.3053,-411.5903\" stroke=\"#000000\"/>\n",
       "</g>\n",
       "<!-- 4328058776 -->\n",
       "<g class=\"node\" id=\"node9\">\n",
       "<title>4328058776</title>\n",
       "<polygon fill=\"none\" points=\"42.0034,-292.5 42.0034,-328.5 169.6069,-328.5 169.6069,-292.5 42.0034,-292.5\" stroke=\"#000000\"/>\n",
       "<text fill=\"#000000\" font-family=\"Times,serif\" font-size=\"14.00\" text-anchor=\"middle\" x=\"105.8052\" y=\"-306.3\">dropout_2: Dropout</text>\n",
       "</g>\n",
       "<!-- 5072604688&#45;&gt;4328058776 -->\n",
       "<g class=\"edge\" id=\"edge8\">\n",
       "<title>5072604688-&gt;4328058776</title>\n",
       "<path d=\"M105.8052,-365.4551C105.8052,-357.3828 105.8052,-347.6764 105.8052,-338.6817\" fill=\"none\" stroke=\"#000000\"/>\n",
       "<polygon fill=\"#000000\" points=\"109.3053,-338.5903 105.8052,-328.5904 102.3053,-338.5904 109.3053,-338.5903\" stroke=\"#000000\"/>\n",
       "</g>\n",
       "<!-- 5072420256 -->\n",
       "<g class=\"node\" id=\"node10\">\n",
       "<title>5072420256</title>\n",
       "<polygon fill=\"none\" points=\"50.1724,-219.5 50.1724,-255.5 161.438,-255.5 161.438,-219.5 50.1724,-219.5\" stroke=\"#000000\"/>\n",
       "<text fill=\"#000000\" font-family=\"Times,serif\" font-size=\"14.00\" text-anchor=\"middle\" x=\"105.8052\" y=\"-233.3\">flatten_1: Flatten</text>\n",
       "</g>\n",
       "<!-- 4328058776&#45;&gt;5072420256 -->\n",
       "<g class=\"edge\" id=\"edge9\">\n",
       "<title>4328058776-&gt;5072420256</title>\n",
       "<path d=\"M105.8052,-292.4551C105.8052,-284.3828 105.8052,-274.6764 105.8052,-265.6817\" fill=\"none\" stroke=\"#000000\"/>\n",
       "<polygon fill=\"#000000\" points=\"109.3053,-265.5903 105.8052,-255.5904 102.3053,-265.5904 109.3053,-265.5903\" stroke=\"#000000\"/>\n",
       "</g>\n",
       "<!-- 5072420368 -->\n",
       "<g class=\"node\" id=\"node11\">\n",
       "<title>5072420368</title>\n",
       "<polygon fill=\"none\" points=\"53.6792,-146.5 53.6792,-182.5 157.9312,-182.5 157.9312,-146.5 53.6792,-146.5\" stroke=\"#000000\"/>\n",
       "<text fill=\"#000000\" font-family=\"Times,serif\" font-size=\"14.00\" text-anchor=\"middle\" x=\"105.8052\" y=\"-160.3\">dense_1: Dense</text>\n",
       "</g>\n",
       "<!-- 5072420256&#45;&gt;5072420368 -->\n",
       "<g class=\"edge\" id=\"edge10\">\n",
       "<title>5072420256-&gt;5072420368</title>\n",
       "<path d=\"M105.8052,-219.4551C105.8052,-211.3828 105.8052,-201.6764 105.8052,-192.6817\" fill=\"none\" stroke=\"#000000\"/>\n",
       "<polygon fill=\"#000000\" points=\"109.3053,-192.5903 105.8052,-182.5904 102.3053,-192.5904 109.3053,-192.5903\" stroke=\"#000000\"/>\n",
       "</g>\n",
       "<!-- 5072004320 -->\n",
       "<g class=\"node\" id=\"node12\">\n",
       "<title>5072004320</title>\n",
       "<polygon fill=\"none\" points=\"42.0034,-73.5 42.0034,-109.5 169.6069,-109.5 169.6069,-73.5 42.0034,-73.5\" stroke=\"#000000\"/>\n",
       "<text fill=\"#000000\" font-family=\"Times,serif\" font-size=\"14.00\" text-anchor=\"middle\" x=\"105.8052\" y=\"-87.3\">dropout_3: Dropout</text>\n",
       "</g>\n",
       "<!-- 5072420368&#45;&gt;5072004320 -->\n",
       "<g class=\"edge\" id=\"edge11\">\n",
       "<title>5072420368-&gt;5072004320</title>\n",
       "<path d=\"M105.8052,-146.4551C105.8052,-138.3828 105.8052,-128.6764 105.8052,-119.6817\" fill=\"none\" stroke=\"#000000\"/>\n",
       "<polygon fill=\"#000000\" points=\"109.3053,-119.5903 105.8052,-109.5904 102.3053,-119.5904 109.3053,-119.5903\" stroke=\"#000000\"/>\n",
       "</g>\n",
       "<!-- 5071750256 -->\n",
       "<g class=\"node\" id=\"node13\">\n",
       "<title>5071750256</title>\n",
       "<polygon fill=\"none\" points=\"53.6792,-.5 53.6792,-36.5 157.9312,-36.5 157.9312,-.5 53.6792,-.5\" stroke=\"#000000\"/>\n",
       "<text fill=\"#000000\" font-family=\"Times,serif\" font-size=\"14.00\" text-anchor=\"middle\" x=\"105.8052\" y=\"-14.3\">dense_2: Dense</text>\n",
       "</g>\n",
       "<!-- 5072004320&#45;&gt;5071750256 -->\n",
       "<g class=\"edge\" id=\"edge12\">\n",
       "<title>5072004320-&gt;5071750256</title>\n",
       "<path d=\"M105.8052,-73.4551C105.8052,-65.3828 105.8052,-55.6764 105.8052,-46.6817\" fill=\"none\" stroke=\"#000000\"/>\n",
       "<polygon fill=\"#000000\" points=\"109.3053,-46.5903 105.8052,-36.5904 102.3053,-46.5904 109.3053,-46.5903\" stroke=\"#000000\"/>\n",
       "</g>\n",
       "</g>\n",
       "</svg>"
      ],
      "text/plain": [
       "<IPython.core.display.SVG object>"
      ]
     },
     "execution_count": 33,
     "metadata": {},
     "output_type": "execute_result"
    }
   ],
   "source": [
    "from IPython.display import SVG\n",
    "from keras.utils.vis_utils import model_to_dot\n",
    "SVG(model_to_dot(model).create(prog='dot', format='svg'))"
   ]
  },
  {
   "cell_type": "code",
   "execution_count": 34,
   "metadata": {
    "ExecuteTime": {
     "end_time": "2018-05-18T02:28:51.028707Z",
     "start_time": "2018-05-18T02:28:51.022521Z"
    }
   },
   "outputs": [
    {
     "name": "stdout",
     "output_type": "stream",
     "text": [
      "(None, 32, 32, 3)\n",
      "(None, 32, 32, 32)\n",
      "(None, 30, 30, 32)\n",
      "(None, 15, 15, 32)\n"
     ]
    }
   ],
   "source": [
    "print(model.layers[0].input_shape) # conv2d\n",
    "# First module's output shape\n",
    "print(model.layers[0].output_shape) # conv2d\n",
    "print(model.layers[1].output_shape) # conv2d\n",
    "print(model.layers[2].output_shape) # maxpool2d"
   ]
  },
  {
   "cell_type": "code",
   "execution_count": 24,
   "metadata": {
    "ExecuteTime": {
     "end_time": "2018-05-18T02:23:45.399074Z",
     "start_time": "2018-05-18T02:23:45.394088Z"
    }
   },
   "outputs": [
    {
     "name": "stdout",
     "output_type": "stream",
     "text": [
      "(None, 15, 15, 64)\n",
      "(None, 13, 13, 64)\n",
      "(None, 6, 6, 64)\n"
     ]
    }
   ],
   "source": [
    "# Second module's output shape\n",
    "print(model.layers[4].output_shape) # conv2d\n",
    "print(model.layers[5].output_shape) # conv2d\n",
    "print(model.layers[6].output_shape) # maxpool2d"
   ]
  },
  {
   "cell_type": "code",
   "execution_count": 25,
   "metadata": {
    "ExecuteTime": {
     "end_time": "2018-05-18T02:23:56.406684Z",
     "start_time": "2018-05-18T02:23:56.401586Z"
    }
   },
   "outputs": [
    {
     "name": "stdout",
     "output_type": "stream",
     "text": [
      "(None, 2304)\n",
      "(None, 512)\n",
      "(None, 10)\n"
     ]
    }
   ],
   "source": [
    "# Thrisd module's output shape\n",
    "print(model.layers[8].output_shape) # conv2d\n",
    "print(model.layers[9].output_shape) # conv2d\n",
    "print(model.layers[11].output_shape) # maxpool2d"
   ]
  },
  {
   "cell_type": "code",
   "execution_count": 28,
   "metadata": {
    "ExecuteTime": {
     "end_time": "2018-05-18T02:24:22.960839Z",
     "start_time": "2018-05-18T02:24:22.952646Z"
    }
   },
   "outputs": [
    {
     "name": "stdout",
     "output_type": "stream",
     "text": [
      "_________________________________________________________________\n",
      "Layer (type)                 Output Shape              Param #   \n",
      "=================================================================\n",
      "conv2d_1 (Conv2D)            (None, 32, 32, 32)        896       \n",
      "_________________________________________________________________\n",
      "conv2d_2 (Conv2D)            (None, 30, 30, 32)        9248      \n",
      "_________________________________________________________________\n",
      "max_pooling2d_1 (MaxPooling2 (None, 15, 15, 32)        0         \n",
      "_________________________________________________________________\n",
      "dropout_1 (Dropout)          (None, 15, 15, 32)        0         \n",
      "_________________________________________________________________\n",
      "conv2d_3 (Conv2D)            (None, 15, 15, 64)        18496     \n",
      "_________________________________________________________________\n",
      "conv2d_4 (Conv2D)            (None, 13, 13, 64)        36928     \n",
      "_________________________________________________________________\n",
      "max_pooling2d_2 (MaxPooling2 (None, 6, 6, 64)          0         \n",
      "_________________________________________________________________\n",
      "dropout_2 (Dropout)          (None, 6, 6, 64)          0         \n",
      "_________________________________________________________________\n",
      "flatten_1 (Flatten)          (None, 2304)              0         \n",
      "_________________________________________________________________\n",
      "dense_1 (Dense)              (None, 512)               1180160   \n",
      "_________________________________________________________________\n",
      "dropout_3 (Dropout)          (None, 512)               0         \n",
      "_________________________________________________________________\n",
      "dense_2 (Dense)              (None, 10)                5130      \n",
      "=================================================================\n",
      "Total params: 1,250,858\n",
      "Trainable params: 1,250,858\n",
      "Non-trainable params: 0\n",
      "_________________________________________________________________\n"
     ]
    }
   ],
   "source": [
    "model.summary()"
   ]
  },
  {
   "cell_type": "code",
   "execution_count": null,
   "metadata": {
    "collapsed": true
   },
   "outputs": [],
   "source": []
  },
  {
   "cell_type": "code",
   "execution_count": 30,
   "metadata": {
    "ExecuteTime": {
     "end_time": "2018-05-18T02:25:36.984142Z",
     "start_time": "2018-05-18T02:25:36.942582Z"
    },
    "collapsed": true
   },
   "outputs": [],
   "source": [
    "optimizer = keras.optimizers.adam(lr=0.0001)\n",
    "model.compile(loss=keras.losses.categorical_crossentropy\n",
    "             , optimizer=optimizer\n",
    "             , metrics=['accuracy'])"
   ]
  },
  {
   "cell_type": "code",
   "execution_count": 39,
   "metadata": {
    "ExecuteTime": {
     "end_time": "2018-05-18T04:37:25.742447Z",
     "start_time": "2018-05-18T04:37:20.547599Z"
    }
   },
   "outputs": [
    {
     "name": "stdout",
     "output_type": "stream",
     "text": [
      "Train on 50000 samples, validate on 10000 samples\n",
      "Epoch 1/20\n",
      " 1248/50000 [..............................] - ETA: 3:15 - loss: 1.6019 - acc: 0.4191"
     ]
    },
    {
     "ename": "KeyboardInterrupt",
     "evalue": "",
     "output_type": "error",
     "traceback": [
      "\u001b[0;31m---------------------------------------------------------------------------\u001b[0m",
      "\u001b[0;31mKeyboardInterrupt\u001b[0m                         Traceback (most recent call last)",
      "\u001b[0;32m<ipython-input-39-00fc7d8d6b89>\u001b[0m in \u001b[0;36m<module>\u001b[0;34m()\u001b[0m\n\u001b[1;32m      3\u001b[0m          \u001b[0;34m,\u001b[0m \u001b[0mepochs\u001b[0m \u001b[0;34m=\u001b[0m \u001b[0mepochs\u001b[0m\u001b[0;34m\u001b[0m\u001b[0m\n\u001b[1;32m      4\u001b[0m          \u001b[0;34m,\u001b[0m \u001b[0mvalidation_data\u001b[0m\u001b[0;34m=\u001b[0m\u001b[0;34m(\u001b[0m\u001b[0mx_test\u001b[0m\u001b[0;34m,\u001b[0m \u001b[0my_test\u001b[0m\u001b[0;34m)\u001b[0m\u001b[0;34m\u001b[0m\u001b[0m\n\u001b[0;32m----> 5\u001b[0;31m          , shuffle=True)\n\u001b[0m",
      "\u001b[0;32m//anaconda/envs/py35/lib/python3.5/site-packages/keras/models.py\u001b[0m in \u001b[0;36mfit\u001b[0;34m(self, x, y, batch_size, epochs, verbose, callbacks, validation_split, validation_data, shuffle, class_weight, sample_weight, initial_epoch, steps_per_epoch, validation_steps, **kwargs)\u001b[0m\n\u001b[1;32m   1000\u001b[0m                               \u001b[0minitial_epoch\u001b[0m\u001b[0;34m=\u001b[0m\u001b[0minitial_epoch\u001b[0m\u001b[0;34m,\u001b[0m\u001b[0;34m\u001b[0m\u001b[0m\n\u001b[1;32m   1001\u001b[0m                               \u001b[0msteps_per_epoch\u001b[0m\u001b[0;34m=\u001b[0m\u001b[0msteps_per_epoch\u001b[0m\u001b[0;34m,\u001b[0m\u001b[0;34m\u001b[0m\u001b[0m\n\u001b[0;32m-> 1002\u001b[0;31m                               validation_steps=validation_steps)\n\u001b[0m\u001b[1;32m   1003\u001b[0m \u001b[0;34m\u001b[0m\u001b[0m\n\u001b[1;32m   1004\u001b[0m     def evaluate(self, x=None, y=None,\n",
      "\u001b[0;32m//anaconda/envs/py35/lib/python3.5/site-packages/keras/engine/training.py\u001b[0m in \u001b[0;36mfit\u001b[0;34m(self, x, y, batch_size, epochs, verbose, callbacks, validation_split, validation_data, shuffle, class_weight, sample_weight, initial_epoch, steps_per_epoch, validation_steps, **kwargs)\u001b[0m\n\u001b[1;32m   1703\u001b[0m                               \u001b[0minitial_epoch\u001b[0m\u001b[0;34m=\u001b[0m\u001b[0minitial_epoch\u001b[0m\u001b[0;34m,\u001b[0m\u001b[0;34m\u001b[0m\u001b[0m\n\u001b[1;32m   1704\u001b[0m                               \u001b[0msteps_per_epoch\u001b[0m\u001b[0;34m=\u001b[0m\u001b[0msteps_per_epoch\u001b[0m\u001b[0;34m,\u001b[0m\u001b[0;34m\u001b[0m\u001b[0m\n\u001b[0;32m-> 1705\u001b[0;31m                               validation_steps=validation_steps)\n\u001b[0m\u001b[1;32m   1706\u001b[0m \u001b[0;34m\u001b[0m\u001b[0m\n\u001b[1;32m   1707\u001b[0m     def evaluate(self, x=None, y=None,\n",
      "\u001b[0;32m//anaconda/envs/py35/lib/python3.5/site-packages/keras/engine/training.py\u001b[0m in \u001b[0;36m_fit_loop\u001b[0;34m(self, f, ins, out_labels, batch_size, epochs, verbose, callbacks, val_f, val_ins, shuffle, callback_metrics, initial_epoch, steps_per_epoch, validation_steps)\u001b[0m\n\u001b[1;32m   1234\u001b[0m                         \u001b[0mins_batch\u001b[0m\u001b[0;34m[\u001b[0m\u001b[0mi\u001b[0m\u001b[0;34m]\u001b[0m \u001b[0;34m=\u001b[0m \u001b[0mins_batch\u001b[0m\u001b[0;34m[\u001b[0m\u001b[0mi\u001b[0m\u001b[0;34m]\u001b[0m\u001b[0;34m.\u001b[0m\u001b[0mtoarray\u001b[0m\u001b[0;34m(\u001b[0m\u001b[0;34m)\u001b[0m\u001b[0;34m\u001b[0m\u001b[0m\n\u001b[1;32m   1235\u001b[0m \u001b[0;34m\u001b[0m\u001b[0m\n\u001b[0;32m-> 1236\u001b[0;31m                     \u001b[0mouts\u001b[0m \u001b[0;34m=\u001b[0m \u001b[0mf\u001b[0m\u001b[0;34m(\u001b[0m\u001b[0mins_batch\u001b[0m\u001b[0;34m)\u001b[0m\u001b[0;34m\u001b[0m\u001b[0m\n\u001b[0m\u001b[1;32m   1237\u001b[0m                     \u001b[0;32mif\u001b[0m \u001b[0;32mnot\u001b[0m \u001b[0misinstance\u001b[0m\u001b[0;34m(\u001b[0m\u001b[0mouts\u001b[0m\u001b[0;34m,\u001b[0m \u001b[0mlist\u001b[0m\u001b[0;34m)\u001b[0m\u001b[0;34m:\u001b[0m\u001b[0;34m\u001b[0m\u001b[0m\n\u001b[1;32m   1238\u001b[0m                         \u001b[0mouts\u001b[0m \u001b[0;34m=\u001b[0m \u001b[0;34m[\u001b[0m\u001b[0mouts\u001b[0m\u001b[0;34m]\u001b[0m\u001b[0;34m\u001b[0m\u001b[0m\n",
      "\u001b[0;32m//anaconda/envs/py35/lib/python3.5/site-packages/keras/backend/tensorflow_backend.py\u001b[0m in \u001b[0;36m__call__\u001b[0;34m(self, inputs)\u001b[0m\n\u001b[1;32m   2480\u001b[0m         \u001b[0msession\u001b[0m \u001b[0;34m=\u001b[0m \u001b[0mget_session\u001b[0m\u001b[0;34m(\u001b[0m\u001b[0;34m)\u001b[0m\u001b[0;34m\u001b[0m\u001b[0m\n\u001b[1;32m   2481\u001b[0m         updated = session.run(fetches=fetches, feed_dict=feed_dict,\n\u001b[0;32m-> 2482\u001b[0;31m                               **self.session_kwargs)\n\u001b[0m\u001b[1;32m   2483\u001b[0m         \u001b[0;32mreturn\u001b[0m \u001b[0mupdated\u001b[0m\u001b[0;34m[\u001b[0m\u001b[0;34m:\u001b[0m\u001b[0mlen\u001b[0m\u001b[0;34m(\u001b[0m\u001b[0mself\u001b[0m\u001b[0;34m.\u001b[0m\u001b[0moutputs\u001b[0m\u001b[0;34m)\u001b[0m\u001b[0;34m]\u001b[0m\u001b[0;34m\u001b[0m\u001b[0m\n\u001b[1;32m   2484\u001b[0m \u001b[0;34m\u001b[0m\u001b[0m\n",
      "\u001b[0;32m//anaconda/envs/py35/lib/python3.5/site-packages/tensorflow/python/client/session.py\u001b[0m in \u001b[0;36mrun\u001b[0;34m(self, fetches, feed_dict, options, run_metadata)\u001b[0m\n\u001b[1;32m    898\u001b[0m     \u001b[0;32mtry\u001b[0m\u001b[0;34m:\u001b[0m\u001b[0;34m\u001b[0m\u001b[0m\n\u001b[1;32m    899\u001b[0m       result = self._run(None, fetches, feed_dict, options_ptr,\n\u001b[0;32m--> 900\u001b[0;31m                          run_metadata_ptr)\n\u001b[0m\u001b[1;32m    901\u001b[0m       \u001b[0;32mif\u001b[0m \u001b[0mrun_metadata\u001b[0m\u001b[0;34m:\u001b[0m\u001b[0;34m\u001b[0m\u001b[0m\n\u001b[1;32m    902\u001b[0m         \u001b[0mproto_data\u001b[0m \u001b[0;34m=\u001b[0m \u001b[0mtf_session\u001b[0m\u001b[0;34m.\u001b[0m\u001b[0mTF_GetBuffer\u001b[0m\u001b[0;34m(\u001b[0m\u001b[0mrun_metadata_ptr\u001b[0m\u001b[0;34m)\u001b[0m\u001b[0;34m\u001b[0m\u001b[0m\n",
      "\u001b[0;32m//anaconda/envs/py35/lib/python3.5/site-packages/tensorflow/python/client/session.py\u001b[0m in \u001b[0;36m_run\u001b[0;34m(self, handle, fetches, feed_dict, options, run_metadata)\u001b[0m\n\u001b[1;32m   1133\u001b[0m     \u001b[0;32mif\u001b[0m \u001b[0mfinal_fetches\u001b[0m \u001b[0;32mor\u001b[0m \u001b[0mfinal_targets\u001b[0m \u001b[0;32mor\u001b[0m \u001b[0;34m(\u001b[0m\u001b[0mhandle\u001b[0m \u001b[0;32mand\u001b[0m \u001b[0mfeed_dict_tensor\u001b[0m\u001b[0;34m)\u001b[0m\u001b[0;34m:\u001b[0m\u001b[0;34m\u001b[0m\u001b[0m\n\u001b[1;32m   1134\u001b[0m       results = self._do_run(handle, final_targets, final_fetches,\n\u001b[0;32m-> 1135\u001b[0;31m                              feed_dict_tensor, options, run_metadata)\n\u001b[0m\u001b[1;32m   1136\u001b[0m     \u001b[0;32melse\u001b[0m\u001b[0;34m:\u001b[0m\u001b[0;34m\u001b[0m\u001b[0m\n\u001b[1;32m   1137\u001b[0m       \u001b[0mresults\u001b[0m \u001b[0;34m=\u001b[0m \u001b[0;34m[\u001b[0m\u001b[0;34m]\u001b[0m\u001b[0;34m\u001b[0m\u001b[0m\n",
      "\u001b[0;32m//anaconda/envs/py35/lib/python3.5/site-packages/tensorflow/python/client/session.py\u001b[0m in \u001b[0;36m_do_run\u001b[0;34m(self, handle, target_list, fetch_list, feed_dict, options, run_metadata)\u001b[0m\n\u001b[1;32m   1314\u001b[0m     \u001b[0;32mif\u001b[0m \u001b[0mhandle\u001b[0m \u001b[0;32mis\u001b[0m \u001b[0;32mNone\u001b[0m\u001b[0;34m:\u001b[0m\u001b[0;34m\u001b[0m\u001b[0m\n\u001b[1;32m   1315\u001b[0m       return self._do_call(_run_fn, feeds, fetches, targets, options,\n\u001b[0;32m-> 1316\u001b[0;31m                            run_metadata)\n\u001b[0m\u001b[1;32m   1317\u001b[0m     \u001b[0;32melse\u001b[0m\u001b[0;34m:\u001b[0m\u001b[0;34m\u001b[0m\u001b[0m\n\u001b[1;32m   1318\u001b[0m       \u001b[0;32mreturn\u001b[0m \u001b[0mself\u001b[0m\u001b[0;34m.\u001b[0m\u001b[0m_do_call\u001b[0m\u001b[0;34m(\u001b[0m\u001b[0m_prun_fn\u001b[0m\u001b[0;34m,\u001b[0m \u001b[0mhandle\u001b[0m\u001b[0;34m,\u001b[0m \u001b[0mfeeds\u001b[0m\u001b[0;34m,\u001b[0m \u001b[0mfetches\u001b[0m\u001b[0;34m)\u001b[0m\u001b[0;34m\u001b[0m\u001b[0m\n",
      "\u001b[0;32m//anaconda/envs/py35/lib/python3.5/site-packages/tensorflow/python/client/session.py\u001b[0m in \u001b[0;36m_do_call\u001b[0;34m(self, fn, *args)\u001b[0m\n\u001b[1;32m   1320\u001b[0m   \u001b[0;32mdef\u001b[0m \u001b[0m_do_call\u001b[0m\u001b[0;34m(\u001b[0m\u001b[0mself\u001b[0m\u001b[0;34m,\u001b[0m \u001b[0mfn\u001b[0m\u001b[0;34m,\u001b[0m \u001b[0;34m*\u001b[0m\u001b[0margs\u001b[0m\u001b[0;34m)\u001b[0m\u001b[0;34m:\u001b[0m\u001b[0;34m\u001b[0m\u001b[0m\n\u001b[1;32m   1321\u001b[0m     \u001b[0;32mtry\u001b[0m\u001b[0;34m:\u001b[0m\u001b[0;34m\u001b[0m\u001b[0m\n\u001b[0;32m-> 1322\u001b[0;31m       \u001b[0;32mreturn\u001b[0m \u001b[0mfn\u001b[0m\u001b[0;34m(\u001b[0m\u001b[0;34m*\u001b[0m\u001b[0margs\u001b[0m\u001b[0;34m)\u001b[0m\u001b[0;34m\u001b[0m\u001b[0m\n\u001b[0m\u001b[1;32m   1323\u001b[0m     \u001b[0;32mexcept\u001b[0m \u001b[0merrors\u001b[0m\u001b[0;34m.\u001b[0m\u001b[0mOpError\u001b[0m \u001b[0;32mas\u001b[0m \u001b[0me\u001b[0m\u001b[0;34m:\u001b[0m\u001b[0;34m\u001b[0m\u001b[0m\n\u001b[1;32m   1324\u001b[0m       \u001b[0mmessage\u001b[0m \u001b[0;34m=\u001b[0m \u001b[0mcompat\u001b[0m\u001b[0;34m.\u001b[0m\u001b[0mas_text\u001b[0m\u001b[0;34m(\u001b[0m\u001b[0me\u001b[0m\u001b[0;34m.\u001b[0m\u001b[0mmessage\u001b[0m\u001b[0;34m)\u001b[0m\u001b[0;34m\u001b[0m\u001b[0m\n",
      "\u001b[0;32m//anaconda/envs/py35/lib/python3.5/site-packages/tensorflow/python/client/session.py\u001b[0m in \u001b[0;36m_run_fn\u001b[0;34m(feed_dict, fetch_list, target_list, options, run_metadata)\u001b[0m\n\u001b[1;32m   1305\u001b[0m       \u001b[0mself\u001b[0m\u001b[0;34m.\u001b[0m\u001b[0m_extend_graph\u001b[0m\u001b[0;34m(\u001b[0m\u001b[0;34m)\u001b[0m\u001b[0;34m\u001b[0m\u001b[0m\n\u001b[1;32m   1306\u001b[0m       return self._call_tf_sessionrun(\n\u001b[0;32m-> 1307\u001b[0;31m           options, feed_dict, fetch_list, target_list, run_metadata)\n\u001b[0m\u001b[1;32m   1308\u001b[0m \u001b[0;34m\u001b[0m\u001b[0m\n\u001b[1;32m   1309\u001b[0m     \u001b[0;32mdef\u001b[0m \u001b[0m_prun_fn\u001b[0m\u001b[0;34m(\u001b[0m\u001b[0mhandle\u001b[0m\u001b[0;34m,\u001b[0m \u001b[0mfeed_dict\u001b[0m\u001b[0;34m,\u001b[0m \u001b[0mfetch_list\u001b[0m\u001b[0;34m)\u001b[0m\u001b[0;34m:\u001b[0m\u001b[0;34m\u001b[0m\u001b[0m\n",
      "\u001b[0;32m//anaconda/envs/py35/lib/python3.5/site-packages/tensorflow/python/client/session.py\u001b[0m in \u001b[0;36m_call_tf_sessionrun\u001b[0;34m(self, options, feed_dict, fetch_list, target_list, run_metadata)\u001b[0m\n\u001b[1;32m   1407\u001b[0m       return tf_session.TF_SessionRun_wrapper(\n\u001b[1;32m   1408\u001b[0m           \u001b[0mself\u001b[0m\u001b[0;34m.\u001b[0m\u001b[0m_session\u001b[0m\u001b[0;34m,\u001b[0m \u001b[0moptions\u001b[0m\u001b[0;34m,\u001b[0m \u001b[0mfeed_dict\u001b[0m\u001b[0;34m,\u001b[0m \u001b[0mfetch_list\u001b[0m\u001b[0;34m,\u001b[0m \u001b[0mtarget_list\u001b[0m\u001b[0;34m,\u001b[0m\u001b[0;34m\u001b[0m\u001b[0m\n\u001b[0;32m-> 1409\u001b[0;31m           run_metadata)\n\u001b[0m\u001b[1;32m   1410\u001b[0m     \u001b[0;32melse\u001b[0m\u001b[0;34m:\u001b[0m\u001b[0;34m\u001b[0m\u001b[0m\n\u001b[1;32m   1411\u001b[0m       \u001b[0;32mwith\u001b[0m \u001b[0merrors\u001b[0m\u001b[0;34m.\u001b[0m\u001b[0mraise_exception_on_not_ok_status\u001b[0m\u001b[0;34m(\u001b[0m\u001b[0;34m)\u001b[0m \u001b[0;32mas\u001b[0m \u001b[0mstatus\u001b[0m\u001b[0;34m:\u001b[0m\u001b[0;34m\u001b[0m\u001b[0m\n",
      "\u001b[0;31mKeyboardInterrupt\u001b[0m: "
     ]
    }
   ],
   "source": [
    "model.fit(x_train, y_train\n",
    "         , batch_size=batch_size\n",
    "         , epochs = epochs\n",
    "         , validation_data=(x_test, y_test)\n",
    "         , shuffle=True)"
   ]
  },
  {
   "cell_type": "code",
   "execution_count": null,
   "metadata": {
    "collapsed": true
   },
   "outputs": [],
   "source": []
  },
  {
   "cell_type": "code",
   "execution_count": null,
   "metadata": {
    "collapsed": true
   },
   "outputs": [],
   "source": []
  },
  {
   "cell_type": "code",
   "execution_count": null,
   "metadata": {
    "collapsed": true
   },
   "outputs": [],
   "source": [
    "from IPython.display import SVG\n",
    "from keras.utils.vis_utils import model_to_dot\n",
    "SVG(model_to_dot(model).create(prog='dot', format='svg'))"
   ]
  }
 ],
 "metadata": {
  "kernelspec": {
   "display_name": "Python 3",
   "language": "python",
   "name": "python3"
  },
  "language_info": {
   "codemirror_mode": {
    "name": "ipython",
    "version": 3
   },
   "file_extension": ".py",
   "mimetype": "text/x-python",
   "name": "python",
   "nbconvert_exporter": "python",
   "pygments_lexer": "ipython3",
   "version": "3.5.2"
  }
 },
 "nbformat": 4,
 "nbformat_minor": 2
}
